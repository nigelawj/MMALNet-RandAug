{
 "cells": [
  {
   "cell_type": "code",
   "execution_count": 1,
   "metadata": {},
   "outputs": [],
   "source": [
    "import tensorflow as tf\n",
    "import numpy as np\n",
    "import pandas as pd\n",
    "import random\n",
    "from PIL import Image\n",
    "from sklearn.model_selection import StratifiedKFold\n",
    "from tensorflow.keras.utils import to_categorical\n",
    "from tensorflow.keras.applications import EfficientNetB0\n",
    "from tensorflow.keras.layers.experimental import preprocessing\n",
    "from tensorflow.keras.layers import GlobalAveragePooling2D, BatchNormalization, Dropout, Dense\n",
    "from pathlib import Path\n",
    "from tensorflow.keras.layers.experimental import preprocessing\n",
    "from tensorflow.keras.models import Sequential\n",
    "from tensorflow.keras import layers\n",
    "from skimage.io import imread\n",
    "from skimage.transform import resize"
   ]
  },
  {
   "cell_type": "code",
   "execution_count": 2,
   "metadata": {},
   "outputs": [],
   "source": [
    "def get_pic(img_path):\n",
    "    return np.array(Image.open(img_path).convert('RGB').resize((256,256),Image.ANTIALIAS))"
   ]
  },
  {
   "cell_type": "code",
   "execution_count": 3,
   "metadata": {},
   "outputs": [],
   "source": [
    "def shuffle_together(*lists):\n",
    "    # randomly shuffles lists together\n",
    "    # e.g. [a, b, c], [1, 2, 3] => [c, a, b], [3, 1, 2]\n",
    "    temp = list(zip(*lists))\n",
    "    random.shuffle(temp)\n",
    "    return [list(tup) for tup in zip(*temp)]"
   ]
  },
  {
   "cell_type": "code",
   "execution_count": 4,
   "metadata": {},
   "outputs": [],
   "source": [
    "df = pd.read_csv(\"data.csv\")\n",
    "df_non_test = df[df[\"train\"]==True].reset_index(drop=True)\n",
    "df_test = df[df[\"train\"]==False].reset_index(drop=True)"
   ]
  },
  {
   "cell_type": "code",
   "execution_count": 5,
   "metadata": {},
   "outputs": [],
   "source": [
    "NUM_CLASSES = df[\"make_code\"].nunique()"
   ]
  },
  {
   "cell_type": "code",
   "execution_count": 6,
   "metadata": {},
   "outputs": [],
   "source": [
    "IMG_SIZE = 224\n",
    "BATCH_SIZE = 64"
   ]
  },
  {
   "cell_type": "code",
   "execution_count": 7,
   "metadata": {},
   "outputs": [],
   "source": [
    "class ImageGenerator(tf.keras.utils.Sequence) :\n",
    "    def __init__(self, img_filenames, labels, batch_size, img_shape):\n",
    "        img_filenames, labels = shuffle_together(img_filenames, labels) \n",
    "        self.img_filenames = img_filenames\n",
    "        self.labels = labels\n",
    "        self.batch_size = batch_size\n",
    "        self.img_shape = img_shape\n",
    "    \n",
    "    def __len__(self) :\n",
    "        return (np.ceil(len(self.img_filenames) / self.batch_size)).astype(np.int)\n",
    "  \n",
    "    def __getitem__(self, idx) :\n",
    "        batch_x = self.img_filenames[idx * self.batch_size : (idx+1) * self.batch_size]\n",
    "        batch_y = self.labels[idx * self.batch_size : (idx+1) * self.batch_size]\n",
    "        image_data = []\n",
    "        for file_name in batch_x:\n",
    "            image_data.append(resize(imread(file_name), (self.img_shape, self.img_shape, 3)))\n",
    "        return np.array(image_data)/255.0, np.array([to_categorical(y_ele, num_classes=NUM_CLASSES) for y_ele in batch_y])\n"
   ]
  },
  {
   "cell_type": "code",
   "execution_count": 8,
   "metadata": {},
   "outputs": [],
   "source": [
    "skf = StratifiedKFold(n_splits=5)\n",
    "for train_index, test_index in skf.split(np.zeros(len(df_non_test)), df_non_test[\"type\"]):\n",
    "    df_train = df_non_test.iloc[train_index]\n",
    "    df_val = df_non_test.iloc[test_index]\n",
    "    train_gen = ImageGenerator(df_train[\"img_path\"].tolist(), df_train[\"make_code\"].tolist(), BATCH_SIZE, IMG_SIZE)\n",
    "    val_gen = ImageGenerator(df_val[\"img_path\"].tolist(), df_val[\"make_code\"].tolist(), BATCH_SIZE, IMG_SIZE)"
   ]
  },
  {
   "cell_type": "code",
   "execution_count": 9,
   "metadata": {},
   "outputs": [],
   "source": [
    "def get_augmentation():\n",
    "    return Sequential([\n",
    "                preprocessing.RandomRotation(factor=0.15),\n",
    "                preprocessing.RandomTranslation(height_factor=0.1, width_factor=0.1),\n",
    "                preprocessing.RandomFlip(),\n",
    "                preprocessing.RandomContrast(factor=0.1),\n",
    "            ],\n",
    "            name=\"img_augmentation\")"
   ]
  },
  {
   "cell_type": "code",
   "execution_count": 10,
   "metadata": {},
   "outputs": [],
   "source": [
    "def build_model(num_classes, weights_path, image_size):\n",
    "    inputs = layers.Input(shape=(image_size, image_size, 3))\n",
    "    x = get_augmentation()(inputs)\n",
    "    model = EfficientNetB0(include_top=False, input_tensor=x, weights=weights_path)\n",
    "\n",
    "    # Freeze the pretrained weights\n",
    "    model.trainable = False\n",
    "\n",
    "    # Rebuild top\n",
    "    x = GlobalAveragePooling2D(name=\"avg_pool\")(model.output)\n",
    "    x = BatchNormalization()(x)\n",
    "    x = Dropout(0.2, name=\"top_dropout\")(x)\n",
    "    outputs = Dense(NUM_CLASSES, activation=\"softmax\", name=\"pred\")(x)\n",
    "\n",
    "    # Compile\n",
    "    model = tf.keras.Model(inputs, outputs, name=\"EfficientNet\")\n",
    "    optimizer = tf.keras.optimizers.Adam(learning_rate=3e-4)\n",
    "    model.compile(\n",
    "        optimizer=optimizer, loss=\"categorical_crossentropy\", metrics=[\"accuracy\"]\n",
    "    )\n",
    "    \n",
    "    return model"
   ]
  },
  {
   "cell_type": "code",
   "execution_count": 11,
   "metadata": {},
   "outputs": [],
   "source": [
    "weights_path = str(Path(\"./ckpt\", \"noisy_student_efficientnet-b0\", \"efficientnetb0_notop.h5\"))"
   ]
  },
  {
   "cell_type": "code",
   "execution_count": 12,
   "metadata": {},
   "outputs": [],
   "source": [
    "model = build_model(NUM_CLASSES, weights_path, IMG_SIZE)"
   ]
  },
  {
   "cell_type": "code",
   "execution_count": null,
   "metadata": {},
   "outputs": [
    {
     "name": "stdout",
     "output_type": "stream",
     "text": [
      "Epoch 1/10\n",
      "200/200 [==============================] - 1351s 7s/step - loss: 4.3267 - accuracy: 0.0460 - val_loss: 4.6764 - val_accuracy: 0.0000e+00\n",
      "Epoch 2/10\n",
      " 78/200 [==========>...................] - ETA: 7:42 - loss: 4.0250 - accuracy: 0.0718"
     ]
    }
   ],
   "source": [
    "model.fit(x=train_gen,\n",
    "          steps_per_epoch = len(df_train) // BATCH_SIZE,\n",
    "          epochs = 10,\n",
    "          verbose = 1,\n",
    "          validation_data = val_gen,\n",
    "          validation_steps = len(df_val) // BATCH_SIZE)"
   ]
  },
  {
   "cell_type": "code",
   "execution_count": null,
   "metadata": {},
   "outputs": [],
   "source": []
  }
 ],
 "metadata": {
  "kernelspec": {
   "display_name": "Python 3",
   "language": "python",
   "name": "python3"
  },
  "language_info": {
   "codemirror_mode": {
    "name": "ipython",
    "version": 3
   },
   "file_extension": ".py",
   "mimetype": "text/x-python",
   "name": "python",
   "nbconvert_exporter": "python",
   "pygments_lexer": "ipython3",
   "version": "3.6.10"
  }
 },
 "nbformat": 4,
 "nbformat_minor": 4
}
