{
 "metadata": {
  "language_info": {
   "codemirror_mode": {
    "name": "ipython",
    "version": 3
   },
   "file_extension": ".py",
   "mimetype": "text/x-python",
   "name": "python",
   "nbconvert_exporter": "python",
   "pygments_lexer": "ipython3",
   "version": "3.7.9-final"
  },
  "orig_nbformat": 2,
  "kernelspec": {
   "name": "python3",
   "display_name": "Python 3.7.9 64-bit ('dl-tf': conda)",
   "metadata": {
    "interpreter": {
     "hash": "b4dd7d73544bf7ec4929fcefd1037cb711787a19b316d86cbdb16dbd4dbdd5c1"
    }
   }
  }
 },
 "nbformat": 4,
 "nbformat_minor": 2,
 "cells": [
  {
   "cell_type": "code",
   "execution_count": 1,
   "metadata": {},
   "outputs": [],
   "source": [
    "import tensorboard\n",
    "import tensorflow as tf\n",
    "import os\n",
    "import numpy as np"
   ]
  },
  {
   "cell_type": "code",
   "execution_count": 2,
   "metadata": {},
   "outputs": [
    {
     "output_type": "stream",
     "name": "stdout",
     "text": [
      "WARNING:tensorflow:From C:\\Users\\naidzel\\miniconda3\\envs\\dl-tf\\lib\\site-packages\\tensorflow_core\\python\\summary\\summary_iterator.py:68: tf_record_iterator (from tensorflow.python.lib.io.tf_record) is deprecated and will be removed in a future version.\nInstructions for updating:\nUse eager execution and: \n`tf.data.TFRecordDataset(path)`\n"
     ]
    }
   ],
   "source": [
    "with open('randaug_logparser.txt', 'w') as z:\n",
    "    # Val Losses\n",
    "    z.write(f'============== Val. Losses ==============\\n')\n",
    "\n",
    "    # N=0, M=0\n",
    "    val_losses = []\n",
    "    for fold in [1, 2, 3, 4, 5]:\n",
    "        base_dir = f'../checkpoint_hyp/checkpoint_N_0_M_0/CompCars/fold_{fold}/log/'\n",
    "\n",
    "        val_losses_fold = []\n",
    "        for f in os.listdir(base_dir):\n",
    "            for e in tf.compat.v1.train.summary_iterator(os.path.join(base_dir, f)):\n",
    "                for v in e.summary.value:\n",
    "                    if v.tag == 'Test/total_loss_avg':\n",
    "                        val_losses_fold.append(v.simple_value)\n",
    "\n",
    "        val_losses.append(min(val_losses_fold))\n",
    "\n",
    "    avg_val_loss = np.mean(val_losses)\n",
    "    val_losses_std = np.std(val_losses)\n",
    "\n",
    "    z.write(f'{0} & {0} & {avg_val_loss:.4f} \\(\\pm\\) {val_losses_std:.4f}\\\\\\\\ \\n')\n",
    "\n",
    "    # The rest of N and M\n",
    "    for n in [1, 2, 3]:\n",
    "        for m in [5, 7, 9, 11, 13, 15]:\n",
    "            val_losses = []\n",
    "            for fold in [1, 2, 3, 4, 5]:\n",
    "                base_dir = f'../checkpoint_hyp/checkpoint_N_{n}_M_{m}/CompCars/fold_{fold}/log/'\n",
    "\n",
    "                val_losses_fold = []\n",
    "                for f in os.listdir(base_dir):\n",
    "                    for e in tf.compat.v1.train.summary_iterator(os.path.join(base_dir, f)):\n",
    "                        for v in e.summary.value:\n",
    "                            if v.tag == 'Test/total_loss_avg':\n",
    "                                val_losses_fold.append(v.simple_value)\n",
    "\n",
    "                val_losses.append(min(val_losses_fold))\n",
    "\n",
    "            avg_val_loss = np.mean(val_losses)\n",
    "            val_losses_std = np.std(val_losses)\n",
    "\n",
    "            z.write(f'{n} & {m} & {avg_val_loss:.4f} \\(\\pm\\) {val_losses_std:.4f}\\\\\\\\ \\n')\n",
    "\n",
    "    # Val Accs.\n",
    "    z.write(f'\\n============== Val. Accs ==============\\n')\n",
    "\n",
    "    # N=0, M=0\n",
    "    val_accs = []\n",
    "    for fold in [1, 2, 3, 4, 5]:\n",
    "        base_dir = f'../checkpoint_hyp/checkpoint_N_0_M_0/CompCars/fold_{fold}/log/'\n",
    "\n",
    "        val_accs_fold = []\n",
    "        for f in os.listdir(base_dir):\n",
    "            for e in tf.compat.v1.train.summary_iterator(os.path.join(base_dir, f)):\n",
    "                for v in e.summary.value:\n",
    "                    if v.tag == 'Test/local_accuracy_1':\n",
    "                        val_accs_fold.append(v.simple_value)\n",
    "\n",
    "        val_accs.append(max(val_accs_fold))\n",
    "\n",
    "    avg_val_acc = np.mean(val_accs)\n",
    "    val_acc_std = np.std(val_accs)\n",
    "\n",
    "    z.write(f'{0} & {0} & {avg_val_acc:.4f} \\(\\pm\\) {val_acc_std:.4f}\\\\\\\\ \\n')\n",
    "\n",
    "    # The rest of N and M\n",
    "    for n in [1, 2, 3]:\n",
    "        for m in [5, 7, 9, 11, 13, 15]:\n",
    "            val_accs = []\n",
    "            for fold in [1, 2, 3, 4, 5]:\n",
    "                base_dir = f'../checkpoint_hyp/checkpoint_N_{n}_M_{m}/CompCars/fold_{fold}/log/'\n",
    "\n",
    "                val_accs_fold = []\n",
    "                for f in os.listdir(base_dir):\n",
    "                    for e in tf.compat.v1.train.summary_iterator(os.path.join(base_dir, f)):\n",
    "                        for v in e.summary.value:\n",
    "                            if v.tag == 'Test/local_accuracy_1':\n",
    "                                val_accs_fold.append(v.simple_value)\n",
    "\n",
    "                val_accs.append(max(val_accs_fold))\n",
    "\n",
    "            avg_val_acc = np.mean(val_accs)\n",
    "            val_acc_std = np.std(val_accs)\n",
    "\n",
    "            z.write(f'{n} & {m} & {avg_val_acc:.4f} \\(\\pm\\) {val_acc_std:.4f}\\\\\\\\ \\n')"
   ]
  }
 ]
}